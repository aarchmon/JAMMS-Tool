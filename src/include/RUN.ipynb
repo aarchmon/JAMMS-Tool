{
 "cells": [
  {
   "cell_type": "code",
   "execution_count": 1,
   "metadata": {},
   "outputs": [],
   "source": [
    "import sys\n",
    "import fire\n",
    "import pandas as pd \n",
    "from dotenv import load_dotenv\n",
    "import alpaca_trade_api as tradeapi\n",
    "import datetime as dt\n",
    "from pytz import timezone\n",
    "import numpy as np \n",
    "import matplotlib.pyplot as plt\n",
    "from pathlib import Path\n",
    "import csv\n",
    "\n",
    "# Import profiler functions.\n",
    "from profiler import get_info\n",
    "from profiler import qualification\n",
    "from profiler import risk_profile\n",
    "\n",
    "# Import data retrieval.\n",
    "from data_retrieval import import_asset_data\n",
    "from data_retrieval import format_close_price\n",
    "from data_retrieval import jupyter_import_csv\n",
    "\n",
    "# Import calculation functions.\n",
    "from calculations import calculate_average_annual_returns\n",
    "from calculations import calculate_average_annual_volatility\n",
    "from calculations import calculate_daily_returns\n",
    "from calculations import calculate_sharpe_ratio\n",
    "from calculations import calculate_portfolio_return\n",
    "from calculations import calculate_portfolio_volatility\n",
    "from calculations import calculate_portfolio_sharpe_ratio\n",
    "\n",
    "# Import Monte-Carlo Simulation tools.\n",
    "from MCForcastTools import MCSimulation\n",
    "\n",
    "# Import Visualizer functions.\n",
    "from visualizer import create_MC_object\n",
    "from visualizer import run_MC_Simulation\n",
    "from visualizer import retrieve_MC_summary\n",
    "\n",
    "# Import Efficient Frontier functions.\n",
    "from efficient_frontier import generate_random_portfolios\n",
    "from efficient_frontier import determine_optimal_portfolio\n",
    "from efficient_frontier import plot_efficient_frontier"
   ]
  },
  {
   "cell_type": "code",
   "execution_count": 2,
   "metadata": {},
   "outputs": [],
   "source": [
    "# Tickers.\n",
    "timeframe = \"1D\"\n",
    "tickers = [\"SPY\", \"AGG\", \"BTC\"]"
   ]
  },
  {
   "cell_type": "code",
   "execution_count": 3,
   "metadata": {},
   "outputs": [],
   "source": [
    "# Weights per client risk profile.  \n",
    "risk_profile_weights = {\"conservative\" : [0.1, 0.9, 0.0], \"moderately conservative\" : [0.25, 0.7, 0.05], \n",
    "                        \"moderate\" : [0.6, 0.3, 0.1], \"moderately aggressive\" : [0.75, 0.2, 0.05],\n",
    "                        \"aggressive\" : [0.8, 0.0, 0.2]}\n",
    "                  "
   ]
  },
  {
   "cell_type": "code",
   "execution_count": 4,
   "metadata": {},
   "outputs": [
    {
     "name": "stdout",
     "output_type": "stream",
     "text": [
      "Net worth: 55000\n",
      "You are able to invest: 55000\n"
     ]
    }
   ],
   "source": [
    "# Clientele information; (hardcoded since questionary cannot run in Jupyter Notebook)\n",
    "cash = 10000\n",
    "assets = 20000\n",
    "income = 75000\n",
    "liquidity = 50000\n",
    "\n",
    "# Calculate client's net worth.\n",
    "net_worth = qualification(cash, assets, income, liquidity)\n",
    "\n",
    "# Determine client's risk profile (hardcoded since questionary cannot run in Jupyter Notebook)\n",
    "risk_prof = \"moderately aggressive\""
   ]
  },
  {
   "cell_type": "markdown",
   "metadata": {},
   "source": [
    "## Retrive Data and Clean Up"
   ]
  },
  {
   "cell_type": "code",
   "execution_count": 5,
   "metadata": {},
   "outputs": [
    {
     "data": {
      "text/html": [
       "<div>\n",
       "<style scoped>\n",
       "    .dataframe tbody tr th:only-of-type {\n",
       "        vertical-align: middle;\n",
       "    }\n",
       "\n",
       "    .dataframe tbody tr th {\n",
       "        vertical-align: top;\n",
       "    }\n",
       "\n",
       "    .dataframe thead th {\n",
       "        text-align: right;\n",
       "    }\n",
       "</style>\n",
       "<table border=\"1\" class=\"dataframe\">\n",
       "  <thead>\n",
       "    <tr style=\"text-align: right;\">\n",
       "      <th></th>\n",
       "      <th>SPY</th>\n",
       "      <th>AGG</th>\n",
       "      <th>BTC</th>\n",
       "    </tr>\n",
       "    <tr>\n",
       "      <th>Date</th>\n",
       "      <th></th>\n",
       "      <th></th>\n",
       "      <th></th>\n",
       "    </tr>\n",
       "  </thead>\n",
       "  <tbody>\n",
       "    <tr>\n",
       "      <th>2015-12-31</th>\n",
       "      <td>203.87</td>\n",
       "      <td>108.01</td>\n",
       "      <td>430.35</td>\n",
       "    </tr>\n",
       "    <tr>\n",
       "      <th>2016-01-01</th>\n",
       "      <td>NaN</td>\n",
       "      <td>NaN</td>\n",
       "      <td>435.66</td>\n",
       "    </tr>\n",
       "    <tr>\n",
       "      <th>2016-01-02</th>\n",
       "      <td>NaN</td>\n",
       "      <td>NaN</td>\n",
       "      <td>435.40</td>\n",
       "    </tr>\n",
       "    <tr>\n",
       "      <th>2016-01-03</th>\n",
       "      <td>NaN</td>\n",
       "      <td>NaN</td>\n",
       "      <td>431.91</td>\n",
       "    </tr>\n",
       "    <tr>\n",
       "      <th>2016-01-04</th>\n",
       "      <td>201.02</td>\n",
       "      <td>107.97</td>\n",
       "      <td>433.85</td>\n",
       "    </tr>\n",
       "    <tr>\n",
       "      <th>...</th>\n",
       "      <td>...</td>\n",
       "      <td>...</td>\n",
       "      <td>...</td>\n",
       "    </tr>\n",
       "    <tr>\n",
       "      <th>2020-12-21</th>\n",
       "      <td>367.86</td>\n",
       "      <td>117.79</td>\n",
       "      <td>22729.40</td>\n",
       "    </tr>\n",
       "    <tr>\n",
       "      <th>2020-12-22</th>\n",
       "      <td>367.24</td>\n",
       "      <td>117.96</td>\n",
       "      <td>23825.90</td>\n",
       "    </tr>\n",
       "    <tr>\n",
       "      <th>2020-12-23</th>\n",
       "      <td>367.57</td>\n",
       "      <td>117.88</td>\n",
       "      <td>23224.30</td>\n",
       "    </tr>\n",
       "    <tr>\n",
       "      <th>2020-12-24</th>\n",
       "      <td>369.00</td>\n",
       "      <td>117.99</td>\n",
       "      <td>23719.40</td>\n",
       "    </tr>\n",
       "    <tr>\n",
       "      <th>2020-12-25</th>\n",
       "      <td>NaN</td>\n",
       "      <td>NaN</td>\n",
       "      <td>24703.30</td>\n",
       "    </tr>\n",
       "  </tbody>\n",
       "</table>\n",
       "<p>1822 rows × 3 columns</p>\n",
       "</div>"
      ],
      "text/plain": [
       "               SPY     AGG       BTC\n",
       "Date                                \n",
       "2015-12-31  203.87  108.01    430.35\n",
       "2016-01-01     NaN     NaN    435.66\n",
       "2016-01-02     NaN     NaN    435.40\n",
       "2016-01-03     NaN     NaN    431.91\n",
       "2016-01-04  201.02  107.97    433.85\n",
       "...            ...     ...       ...\n",
       "2020-12-21  367.86  117.79  22729.40\n",
       "2020-12-22  367.24  117.96  23825.90\n",
       "2020-12-23  367.57  117.88  23224.30\n",
       "2020-12-24  369.00  117.99  23719.40\n",
       "2020-12-25     NaN     NaN  24703.30\n",
       "\n",
       "[1822 rows x 3 columns]"
      ]
     },
     "execution_count": 5,
     "metadata": {},
     "output_type": "execute_result"
    }
   ],
   "source": [
    "raw_data_close_df = jupyter_import_csv()\n",
    "raw_data_close_df.head(-5)"
   ]
  },
  {
   "cell_type": "code",
   "execution_count": 6,
   "metadata": {},
   "outputs": [
    {
     "data": {
      "text/html": [
       "<div>\n",
       "<style scoped>\n",
       "    .dataframe tbody tr th:only-of-type {\n",
       "        vertical-align: middle;\n",
       "    }\n",
       "\n",
       "    .dataframe tbody tr th {\n",
       "        vertical-align: top;\n",
       "    }\n",
       "\n",
       "    .dataframe thead th {\n",
       "        text-align: right;\n",
       "    }\n",
       "</style>\n",
       "<table border=\"1\" class=\"dataframe\">\n",
       "  <thead>\n",
       "    <tr style=\"text-align: right;\">\n",
       "      <th></th>\n",
       "      <th>SPY</th>\n",
       "      <th>AGG</th>\n",
       "      <th>BTC</th>\n",
       "    </tr>\n",
       "    <tr>\n",
       "      <th>Date</th>\n",
       "      <th></th>\n",
       "      <th></th>\n",
       "      <th></th>\n",
       "    </tr>\n",
       "  </thead>\n",
       "  <tbody>\n",
       "    <tr>\n",
       "      <th>2016-01-01</th>\n",
       "      <td>0.000000</td>\n",
       "      <td>0.000000</td>\n",
       "      <td>0.012339</td>\n",
       "    </tr>\n",
       "    <tr>\n",
       "      <th>2016-01-02</th>\n",
       "      <td>0.000000</td>\n",
       "      <td>0.000000</td>\n",
       "      <td>-0.000597</td>\n",
       "    </tr>\n",
       "    <tr>\n",
       "      <th>2016-01-03</th>\n",
       "      <td>0.000000</td>\n",
       "      <td>0.000000</td>\n",
       "      <td>-0.008016</td>\n",
       "    </tr>\n",
       "    <tr>\n",
       "      <th>2016-01-04</th>\n",
       "      <td>-0.013979</td>\n",
       "      <td>-0.000370</td>\n",
       "      <td>0.004492</td>\n",
       "    </tr>\n",
       "    <tr>\n",
       "      <th>2016-01-05</th>\n",
       "      <td>0.001691</td>\n",
       "      <td>0.000463</td>\n",
       "      <td>-0.001176</td>\n",
       "    </tr>\n",
       "    <tr>\n",
       "      <th>...</th>\n",
       "      <td>...</td>\n",
       "      <td>...</td>\n",
       "      <td>...</td>\n",
       "    </tr>\n",
       "    <tr>\n",
       "      <th>2020-12-21</th>\n",
       "      <td>-0.003575</td>\n",
       "      <td>0.000000</td>\n",
       "      <td>-0.034025</td>\n",
       "    </tr>\n",
       "    <tr>\n",
       "      <th>2020-12-22</th>\n",
       "      <td>-0.001685</td>\n",
       "      <td>0.001443</td>\n",
       "      <td>0.048241</td>\n",
       "    </tr>\n",
       "    <tr>\n",
       "      <th>2020-12-23</th>\n",
       "      <td>0.000899</td>\n",
       "      <td>-0.000678</td>\n",
       "      <td>-0.025250</td>\n",
       "    </tr>\n",
       "    <tr>\n",
       "      <th>2020-12-24</th>\n",
       "      <td>0.003890</td>\n",
       "      <td>0.000933</td>\n",
       "      <td>0.021318</td>\n",
       "    </tr>\n",
       "    <tr>\n",
       "      <th>2020-12-25</th>\n",
       "      <td>0.000000</td>\n",
       "      <td>0.000000</td>\n",
       "      <td>0.041481</td>\n",
       "    </tr>\n",
       "  </tbody>\n",
       "</table>\n",
       "<p>1821 rows × 3 columns</p>\n",
       "</div>"
      ],
      "text/plain": [
       "                 SPY       AGG       BTC\n",
       "Date                                    \n",
       "2016-01-01  0.000000  0.000000  0.012339\n",
       "2016-01-02  0.000000  0.000000 -0.000597\n",
       "2016-01-03  0.000000  0.000000 -0.008016\n",
       "2016-01-04 -0.013979 -0.000370  0.004492\n",
       "2016-01-05  0.001691  0.000463 -0.001176\n",
       "...              ...       ...       ...\n",
       "2020-12-21 -0.003575  0.000000 -0.034025\n",
       "2020-12-22 -0.001685  0.001443  0.048241\n",
       "2020-12-23  0.000899 -0.000678 -0.025250\n",
       "2020-12-24  0.003890  0.000933  0.021318\n",
       "2020-12-25  0.000000  0.000000  0.041481\n",
       "\n",
       "[1821 rows x 3 columns]"
      ]
     },
     "execution_count": 6,
     "metadata": {},
     "output_type": "execute_result"
    }
   ],
   "source": [
    "# Retrieve daily returns and N/A for each asset\n",
    "daily_returns_df = calculate_daily_returns(raw_data_close_df)\n",
    "daily_returns_df.head(-5)"
   ]
  },
  {
   "cell_type": "code",
   "execution_count": 7,
   "metadata": {},
   "outputs": [
    {
     "name": "stdout",
     "output_type": "stream",
     "text": [
      "SPY    0.095445\n",
      "AGG    0.013073\n",
      "BTC    0.784863\n",
      "dtype: float64\n"
     ]
    }
   ],
   "source": [
    "# Retrieve average annual returns for each asset for SPY, AGG, BTC\n",
    "average_annual_returns_df = calculate_average_annual_returns(daily_returns_df)\n",
    "print(average_annual_returns_df)"
   ]
  },
  {
   "cell_type": "code",
   "execution_count": 8,
   "metadata": {},
   "outputs": [
    {
     "name": "stdout",
     "output_type": "stream",
     "text": [
      "SPY    0.095445\n",
      "AGG    0.013073\n",
      "BTC    0.784863\n",
      "dtype: float64\n"
     ]
    }
   ],
   "source": [
    "# Retrieve average annual volatility for SPY, AGG, BTC\n",
    "average_annual_volatility_df = calculate_average_annual_volatility(daily_returns_df)\n",
    "print(average_annual_returns_df)"
   ]
  },
  {
   "cell_type": "markdown",
   "metadata": {},
   "source": [
    "## Calculate Portfolio Return, Volatility, and Sharpe Ratio per Profile"
   ]
  },
  {
   "cell_type": "code",
   "execution_count": 9,
   "metadata": {},
   "outputs": [],
   "source": [
    "# Calculate portfolio returns, volatility and Sharpe Ratio per risk profile.\n",
    "portfolio_return = calculate_portfolio_return(daily_returns_df, risk_profile_weights[risk_prof])\n",
    "portfolio_volatility = calculate_portfolio_volatility(daily_returns_df, risk_profile_weights[risk_prof])\n",
    "portfolio_sharpe_ratio = calculate_portfolio_sharpe_ratio(portfolio_return, portfolio_volatility)"
   ]
  },
  {
   "cell_type": "code",
   "execution_count": 10,
   "metadata": {},
   "outputs": [
    {
     "name": "stdout",
     "output_type": "stream",
     "text": [
      "Portfolio Statistics per Client Risk Profile (5-Year)\n",
      "=====================================================\n",
      "Return =  11.34%\n",
      "Volatility =  12.70%\n",
      "Sharpe Ratio =  0.89\n",
      "Weighting = [0.75 (SPY), 0.2 (AGG), 0.05 (BTC)]\n",
      "-----------------------------------------------------\n",
      "\n"
     ]
    }
   ],
   "source": [
    "# Print portfolio metrics (5-year).\n",
    "print(\"Portfolio Statistics per Client Risk Profile (5-Year)\")\n",
    "print(\"=====================================================\")\n",
    "print(f\"Return = {portfolio_return * 100: .2f}%\")\n",
    "print(f\"Volatility = {portfolio_volatility * 100: .2f}%\")\n",
    "print(f\"Sharpe Ratio = {portfolio_sharpe_ratio: .2f}\")\n",
    "print(f\"Weighting = [{risk_profile_weights[risk_prof][0]} (SPY), {risk_profile_weights[risk_prof][1]} (AGG), {risk_profile_weights[risk_prof][2]} (BTC)]\")\n",
    "print(\"-----------------------------------------------------\")\n",
    "print()"
   ]
  },
  {
   "cell_type": "code",
   "execution_count": 11,
   "metadata": {},
   "outputs": [
    {
     "name": "stdout",
     "output_type": "stream",
     "text": [
      "Portfolio with Greatest Sharpe Ratio\n",
      "=====================================================\n",
      "Returns =  19.15%\n",
      "Sharpe Ratio =  0.14\n",
      "Weighting = [ 0.30 (SPY),  0.50 (AGG), 0.20 (BTC)]\n",
      "-----------------------------------------------------\n",
      "\n",
      "Portfolio with Least Risk\n",
      "=====================================================\n",
      "Returns =  7.41%\n",
      "Sharpe Ratio =  0.06\n",
      "Weighting = [ 0.08 (SPY),  0.85 (AGG), 0.07 (BTC)]\n",
      "-----------------------------------------------------\n",
      "\n"
     ]
    }
   ],
   "source": [
    "# Determine optimized portfolios.\n",
    "portfolio_returns, portfolio_risk, sharpe_ratio_port, portfolio_weights = generate_random_portfolios(100, 3, daily_returns_df)\n",
    "portfolio_metrics = [portfolio_returns, portfolio_risk, sharpe_ratio_port, portfolio_weights]\n",
    "determine_optimal_portfolio(portfolio_metrics)\n"
   ]
  },
  {
   "cell_type": "code",
   "execution_count": 12,
   "metadata": {},
   "outputs": [
    {
     "data": {
      "image/png": "[encoded data removed]",
      "text/plain": [
       "<Figure size 720x360 with 2 Axes>"
      ]
     },
     "metadata": {
      "needs_background": "light"
     },
     "output_type": "display_data"
    }
   ],
   "source": [
    "mod_agg_eff_frontier = plot_efficient_frontier(portfolio_risk, portfolio_returns)"
   ]
  },
  {
   "cell_type": "code",
   "execution_count": null,
   "metadata": {},
   "outputs": [],
   "source": []
  }
 ],
 "metadata": {
  "kernelspec": {
   "display_name": "Python (dev)",
   "language": "python",
   "name": "dev"
  },
  "language_info": {
   "codemirror_mode": {
    "name": "ipython",
    "version": 3
   },
   "file_extension": ".py",
   "mimetype": "text/x-python",
   "name": "python",
   "nbconvert_exporter": "python",
   "pygments_lexer": "ipython3",
   "version": "3.7.9"
  }
 },
 "nbformat": 4,
 "nbformat_minor": 4
}
