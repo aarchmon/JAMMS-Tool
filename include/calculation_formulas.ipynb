{
 "cells": [
  {
   "cell_type": "code",
   "execution_count": 1,
   "metadata": {},
   "outputs": [],
   "source": [
    "import numpy as np\n",
    "from profiler import risk_profile\n",
    "from data_retrieval import format_close_price\n",
    "from data_retrieval import import_asset_data\n",
    "from MCForecastTools import MCSimulation"
   ]
  },
  {
   "cell_type": "code",
   "execution_count": null,
   "metadata": {},
   "outputs": [],
   "source": [
    "#create empty lists to store avg_annual_return, avg_ann_vol, and avg_ann_sharpe_ratio, with corresponding indices of tickers\n",
    "avg_annual_return_list=[]\n",
    "avg_ann_vol_list=[]\n",
    "avg_ann_sharpe_ratio_list=[]\n",
    "#loop through tickers= [\"AGG\",\"SPY\",\"BTC\"] to run calculations for each ticker.\n",
    "def calculate():\n",
    "    for i < len(tickers):\n",
    "        #scrape data from alpaca using import_asset_data() from data_retrieval.py\n",
    "        initial_df=import_asset_data(start, end, asset, timeframe)\n",
    "        #filter dataframe by using format_close_price() from data_retrieval.py\n",
    "        df=format_close_price(initial_df, asset)\n",
    "        if i ==0:\n",
    "            agg_df==df\n",
    "        elif i ==1:\n",
    "            spy_df=df\n",
    "        else:\n",
    "            btc_df=df\n",
    "        #calculate avg_annual_return and save it to a variable: aarl for append. \n",
    "        aarl=average_annual_return(df)\n",
    "        #append aarl to avg_annual_return_list with corresponding indices of the ticker\n",
    "        avg_annual_return_list.append(aarl)\n",
    "        #calculate  avg_ann_vol and save it to a variable: aav for append. \n",
    "        aav=avg_annual_vol(avg_annual_return)\n",
    "        #append aarl to avg_ann_vol_list with corresponding indices of the ticker\n",
    "        avg_ann_vol_list.append(aav)\n",
    "        #calculate  avg_ann_sharpe_ratio and save it to a variable: sr for append. \n",
    "        sr=sharpe_ratio(avg_annual_return,avg_ann_vol)\n",
    "        #append sr to avg_ann_sharpe_ratio_list with corresponding indices of the ticker\n",
    "        avg_ann_sharpe_ratio_list.append(sr)"
   ]
  },
  {
   "cell_type": "code",
   "execution_count": null,
   "metadata": {},
   "outputs": [],
   "source": [
    "#This  adds a new column named \"daily_return\"\n",
    "def average_annual_return(df):\n",
    "    percent_change=df[\"close\"].pct_change().dropna()\n",
    "    df[\"daily_return\"]=percent_change\n",
    "    new_dataframe=df\n",
    "    agg_df_percent_change=new_dataframe[\"daily_return\"].mean()\n",
    "    avg_annual_return= agg_df_percent_change*252\n",
    "    return avg_annual_return\n",
    "    "
   ]
  },
  {
   "cell_type": "code",
   "execution_count": null,
   "metadata": {},
   "outputs": [],
   "source": [
    "#std()\n",
    "def avg_annual_vol(avg_annual_return):\n",
    "    avg_ann_vol=avg_annual_return.std()*np.sqrt(252)\n",
    "    return avg_ann_vol"
   ]
  },
  {
   "cell_type": "code",
   "execution_count": null,
   "metadata": {},
   "outputs": [],
   "source": [
    "#sharpe ratio\n",
    "def sharpe_ratio(avg_annual_return , avg_ann_vol):\n",
    "    avg_ann_sharpe_ratio=avg_annual_return/avg_ann_vol\n",
    "    return avg_ann_sharpe_ratio"
   ]
  },
  {
   "cell_type": "code",
   "execution_count": null,
   "metadata": {},
   "outputs": [],
   "source": [
    "portfolio_return=0    \n",
    "def asset_allocation_funtion(tickers, asset_allocation, avg_annual_return_list):\n",
    "    for i < len(tickers):\n",
    "        portfolio_return=+(asset_allocation[i]*avg_annual_return_list[i])\n",
    "    return portfolio_return\n",
    "    "
   ]
  },
  {
   "cell_type": "code",
   "execution_count": null,
   "metadata": {},
   "outputs": [],
   "source": [
    "def port_simulation():\n",
    "    merge_dict = {tickers[0]: agg_df , tickers[1]: spy_df,  tickers[2]:btc_df}\n",
    "    merged_df = pd.concat(merge_dict.values(), axis=1, keys=merge_dict.keys())\n",
    "    simulation = MCSimulation(\n",
    "        portfolio_data=merged_df,\n",
    "        weights=asset_allocation,\n",
    "        num_simulation=1000,\n",
    "       num_trading_days=252*10,\n",
    "    )\n",
    "    port_df=simulation.portfolio_data.head()\n",
    "    port_std=port_df.std()\n",
    "    port_sharpe_ratio=portfolio_return/port_std\n",
    "    return simulation.calc_cumulative_return()"
   ]
  },
  {
   "cell_type": "code",
   "execution_count": null,
   "metadata": {},
   "outputs": [],
   "source": [
    "def profile(risk_profile()):\n",
    "    if risk_profile() == \"conservative\":\n",
    "        asset_allocation=[0.9,.1,0]\n",
    "        calculate()\n",
    "        asset_allocation_funtion(tickers, asset_allocation, avg_annual_return_list)\n",
    "        port_simulation()\n",
    "    elif risk_profile(risk_profile()) == \"moderately conservative\":\n",
    "        asset_allocation=[.7,.25,.5]\n",
    "        calculate()\n",
    "        asset_allocation_funtion(tickers, asset_allocation, avg_annual_return_list)\n",
    "        port_simulation()\n",
    "    elif risk_profile(risk_profile()) == \"moderate\":\n",
    "        asset_allocation=[.3,.6,.1]\n",
    "        calculate()\n",
    "        asset_allocation_funtion(tickers, asset_allocation, avg_annual_return_list)\n",
    "        port_simulation()\n",
    "    elif risk_profile(risk_profile()) == \"moderately aggressive\":\n",
    "        asset_allocation=[.1,.75,.15]\n",
    "        calculate()\n",
    "        asset_allocation_funtion(tickers, asset_allocation, avg_annual_return_list)\n",
    "        port_simulation()\n",
    "    else:\n",
    "        asset_allocation=[0,.8,.2]\n",
    "        calculate()\n",
    "        asset_allocation_funtion(tickers, asset_allocation, avg_annual_return_list)\n",
    "        port_simulation()"
   ]
  }
 ],
 "metadata": {
  "kernelspec": {
   "display_name": "Python 3",
   "language": "python",
   "name": "python3"
  },
  "language_info": {
   "codemirror_mode": {
    "name": "ipython",
    "version": 3
   },
   "file_extension": ".py",
   "mimetype": "text/x-python",
   "name": "python",
   "nbconvert_exporter": "python",
   "pygments_lexer": "ipython3",
   "version": "3.8.5"
  }
 },
 "nbformat": 4,
 "nbformat_minor": 4
}
