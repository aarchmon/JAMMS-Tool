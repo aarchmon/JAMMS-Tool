{
 "cells": [
  {
   "cell_type": "code",
   "execution_count": 1,
   "metadata": {},
   "outputs": [
    {
     "ename": "ImportError",
     "evalue": "cannot import name 'risk_profile' from 'test' (C:\\Users\\Might\\anaconda3\\lib\\test\\__init__.py)",
     "output_type": "error",
     "traceback": [
      "\u001b[1;31m---------------------------------------------------------------------------\u001b[0m",
      "\u001b[1;31mImportError\u001b[0m                               Traceback (most recent call last)",
      "\u001b[1;32m<ipython-input-1-fa227010aab2>\u001b[0m in \u001b[0;36m<module>\u001b[1;34m\u001b[0m\n\u001b[1;32m----> 1\u001b[1;33m \u001b[1;32mfrom\u001b[0m \u001b[0mtest\u001b[0m \u001b[1;32mimport\u001b[0m \u001b[0mrisk_profile\u001b[0m\u001b[1;33m\u001b[0m\u001b[1;33m\u001b[0m\u001b[0m\n\u001b[0m\u001b[0;32m      2\u001b[0m \u001b[1;32mfrom\u001b[0m \u001b[0mdata_retrieval\u001b[0m \u001b[1;32mimport\u001b[0m \u001b[0mformat_close_price\u001b[0m\u001b[1;33m\u001b[0m\u001b[1;33m\u001b[0m\u001b[0m\n\u001b[0;32m      3\u001b[0m \u001b[1;32mfrom\u001b[0m \u001b[0mdata_retrieval\u001b[0m \u001b[1;32mimport\u001b[0m \u001b[0mimport_asset_data\u001b[0m\u001b[1;33m\u001b[0m\u001b[1;33m\u001b[0m\u001b[0m\n",
      "\u001b[1;31mImportError\u001b[0m: cannot import name 'risk_profile' from 'test' (C:\\Users\\Might\\anaconda3\\lib\\test\\__init__.py)"
     ]
    }
   ],
   "source": [
    "import numpy as np\n",
    "from test import risk_profile\n",
    "from data_retrieval import format_close_price\n",
    "from data_retrieval import import_asset_data"
   ]
  },
  {
   "cell_type": "code",
   "execution_count": null,
   "metadata": {},
   "outputs": [],
   "source": [
    "\n",
    "    "
   ]
  },
  {
   "cell_type": "code",
   "execution_count": null,
   "metadata": {},
   "outputs": [],
   "source": [
    "\n",
    "        "
   ]
  },
  {
   "cell_type": "code",
   "execution_count": null,
   "metadata": {},
   "outputs": [],
   "source": []
  },
  {
   "cell_type": "code",
   "execution_count": null,
   "metadata": {},
   "outputs": [],
   "source": [
    "#create empty lists to store avg_annual_return, avg_ann_vol, and avg_ann_sharpe_ratio, with corresponding indices of tickers\n",
    "avg_annual_return_list=[]\n",
    "avg_ann_vol_list=[]\n",
    "avg_ann_sharpe_ratio_list=[]\n",
    "#loop through tickers= [\"AGG\",\"SPY\",\"BTC\"] to run calculations for each ticker.\n",
    "for asset in tickers:\n",
    "    #scrape data from alpaca using import_asset_data() from data_retrieval.py\n",
    "    initial_df=import_asset_data(start, end, asset, timeframe)\n",
    "    #filter dataframe by using format_close_price() from data_retrieval.py\n",
    "    df=format_close_price(initial_df, asset)\n",
    "    #calculate avg_annual_return and save it to a variable: aarl for append. \n",
    "    aarl=average_annual_return(df)\n",
    "    #append aarl to avg_annual_return_list with corresponding indices of the ticker\n",
    "    avg_annual_return_list.append(aarl)\n",
    "    #calculate  avg_ann_vol and save it to a variable: aav for append. \n",
    "    aav=avg_annual_vol(avg_annual_return)\n",
    "    #append aarl to avg_ann_vol_list with corresponding indices of the ticker\n",
    "    avg_ann_vol_list.append(aav)\n",
    "    #calculate  avg_ann_sharpe_ratio and save it to a variable: sr for append. \n",
    "    sr=sharpe_ratio(avg_annual_return,avg_ann_vol)\n",
    "    #append sr to avg_ann_sharpe_ratio_list with corresponding indices of the ticker\n",
    "    avg_ann_sharpe_ratio_list.append(sr)"
   ]
  },
  {
   "cell_type": "code",
   "execution_count": null,
   "metadata": {},
   "outputs": [],
   "source": [
    "#This  adds a new column named \"daily_return\"\n",
    "def average_annual_return(df):\n",
    "    percent_change=df[\"close\"].pct_change().dropna()\n",
    "    df[\"daily_return\"]=percent_change\n",
    "    new_dataframe=df\n",
    "    agg_df_percent_change=new_dataframe[\"daily_return\"].mean()\n",
    "    avg_annual_return= agg_df_percent_change*252\n",
    "    return avg_annual_return\n",
    "    "
   ]
  },
  {
   "cell_type": "code",
   "execution_count": null,
   "metadata": {},
   "outputs": [],
   "source": [
    "#std()\n",
    "def avg_annual_vol(avg_annual_return):\n",
    "    avg_ann_vol=avg_annual_return.std()*np.sqrt(252)\n",
    "    return avg_ann_vol"
   ]
  },
  {
   "cell_type": "code",
   "execution_count": null,
   "metadata": {},
   "outputs": [],
   "source": [
    "#sharpe ratio\n",
    "def sharpe_ratio(avg_annual_return , avg_ann_vol):\n",
    "    avg_ann_sharpe_ratio=avg_annual_return/avg_ann_vol\n",
    "    return avg_ann_sharpe_ratio"
   ]
  },
  {
   "cell_type": "code",
   "execution_count": null,
   "metadata": {},
   "outputs": [],
   "source": [
    "portfolio_return=0    \n",
    "def asset_allocation_funtion(tickers, asset_allocation, avg_annual_return_list):\n",
    "    for i < len(tickers):\n",
    "        portfolio_return=+(asset_allocation[i]*avg_annual_return_list[i])\n",
    "    return portfolio_return\n",
    "    "
   ]
  },
  {
   "cell_type": "code",
   "execution_count": null,
   "metadata": {},
   "outputs": [],
   "source": [
    "if risk_profile() == \"conservative\":\n",
    "    asset_allocation=[1,0,0]\n",
    "    asset_allocation_funtion(tickers, asset_allocation, avg_annual_return_list)\n",
    "elif risk_profile() == \"moderate\":\n",
    "    asset_allocation=[.3,.6,.1]\n",
    "    asset_allocation_funtion(tickers, asset_allocation, avg_annual_return_list)\n",
    "else:\n",
    "    asset_allocation=[0,.8,.2]\n",
    "    asset_allocation_funtion(tickers, asset_allocation, avg_annual_return_list)"
   ]
  }
 ],
 "metadata": {
  "kernelspec": {
   "display_name": "Python 3",
   "language": "python",
   "name": "python3"
  },
  "language_info": {
   "codemirror_mode": {
    "name": "ipython",
    "version": 3
   },
   "file_extension": ".py",
   "mimetype": "text/x-python",
   "name": "python",
   "nbconvert_exporter": "python",
   "pygments_lexer": "ipython3",
   "version": "3.8.5"
  }
 },
 "nbformat": 4,
 "nbformat_minor": 4
}
