{
 "cells": [
  {
   "cell_type": "code",
   "execution_count": 1,
   "metadata": {},
   "outputs": [],
   "source": [
    "from test import risk_profile"
   ]
  },
  {
   "cell_type": "code",
   "execution_count": null,
   "metadata": {},
   "outputs": [],
   "source": [
    "if risk_profile() == \"conservative\":\n",
    "    bonds=1\n",
    "    stocks=0\n",
    "    crypto=0\n",
    "    asset_allocation_funtion(bonds,stocks,crypto,agg_df,sp500_df,btc_df)\n",
    "elif risk_profile() == \"moderate\":\n",
    "    bonds=.3\n",
    "    stocks=.6\n",
    "    crypto=.1\n",
    "     asset_allocation_funtion(bonds,stocks,crypto,agg_df,sp500_df,btc_df)\n",
    "else:\n",
    "    bonds=0\n",
    "    stocks=.8\n",
    "    crypto=.2\n",
    "     asset_allocation_funtion(bonds,stocks,crypto,agg_df,sp500_df,btc_df)\n",
    "    "
   ]
  },
  {
   "cell_type": "code",
   "execution_count": null,
   "metadata": {},
   "outputs": [],
   "source": [
    " \n",
    "def asset_allocation_funtion(bonds,stocks,crypto,agg_df,sp500_df,btc_df):\n",
    "    \n",
    "    portfolio_return=bonds*(average_annual_return()) \n",
    "    stocks*(stock_average_annual_return) + c\n",
    "    rypto*(crypto_average_annual_return)\n",
    "        "
   ]
  },
  {
   "cell_type": "code",
   "execution_count": null,
   "metadata": {},
   "outputs": [],
   "source": [
    "#This goes in to asset_allocation_funtion\n",
    "def average_annual_return(new_dataframe):\n",
    "    agg_df_percent_change=new_dataframe[\"daily_change\"].mean()\n",
    "    avg_annual_return= agg_df_percent_change*252\n",
    "    return avg_annual_return"
   ]
  },
  {
   "cell_type": "code",
   "execution_count": null,
   "metadata": {},
   "outputs": [],
   "source": [
    "#This  adds a new column named \"daily_return\"\n",
    "def add_daily_return(dataframe):\n",
    "    daily_return_values=dataframe[\"prices\"].percent_change()\n",
    "    new_dataframe[\"daily_return\"]=daily_return_values\n",
    "    return new_dataframe\n",
    "    "
   ]
  },
  {
   "cell_type": "code",
   "execution_count": null,
   "metadata": {},
   "outputs": [],
   "source": [
    "\n"
   ]
  },
  {
   "cell_type": "code",
   "execution_count": null,
   "metadata": {},
   "outputs": [],
   "source": [
    "\n",
    "    \n",
    "    "
   ]
  }
 ],
 "metadata": {
  "kernelspec": {
   "display_name": "Python 3",
   "language": "python",
   "name": "python3"
  },
  "language_info": {
   "codemirror_mode": {
    "name": "ipython",
    "version": 3
   },
   "file_extension": ".py",
   "mimetype": "text/x-python",
   "name": "python",
   "nbconvert_exporter": "python",
   "pygments_lexer": "ipython3",
   "version": "3.8.5"
  }
 },
 "nbformat": 4,
 "nbformat_minor": 4
}
